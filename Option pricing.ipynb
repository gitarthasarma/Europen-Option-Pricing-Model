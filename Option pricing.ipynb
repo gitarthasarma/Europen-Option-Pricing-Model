{
 "cells": [
  {
   "cell_type": "code",
   "execution_count": 13,
   "metadata": {},
   "outputs": [],
   "source": [
    "import numpy as np\n",
    "import math \n"
   ]
  },
  {
   "cell_type": "code",
   "execution_count": 14,
   "metadata": {},
   "outputs": [],
   "source": [
    "#we will be using the CRR, risk neutral method for pricing the option, european option\n",
    "#we define the stock price at each and every stage to have 2 values,                             \n",
    "#if S_0 is the price at a particular level, then the two prices are given by u*S_0 and d*S_0, u>d\n",
    "#and u*d = 1\n",
    "# u is given by e^(v*sqrt(t)) where, v is the underlying volatility and t the time interval\n",
    "#the probability of each upward move is given by p =(e^(r*dt)-d)/(u-d), where r is the annual risk free rate and e = 2.7124\n"
   ]
  },
  {
   "cell_type": "code",
   "execution_count": null,
   "metadata": {},
   "outputs": [],
   "source": []
  },
  {
   "cell_type": "code",
   "execution_count": 15,
   "metadata": {},
   "outputs": [],
   "source": [
    "def OptionsVal(n, S, K, r, v, T, PC):  # n: no of periods(single period or multi period, etc)in the pricing,\n",
    "                                       #  S: current stock price, K: strike price, r:risk free interest rate,\n",
    "                                       #  v: underlying volatility, T:period of valuation, PC: 0 for call option, 1 for put option\n",
    "    dt = T/n                #time interval for each and every level up\n",
    "    \n",
    "    u = m.exp(v*m.sqrt(dt))  \n",
    "    d = 1/u                  #initializing u and d and also the risk neutral probability p \n",
    "    p = (m.exp(r*dt)-d)/(u-d)\n",
    "    \n",
    "    \n",
    "    Stock_tree = np.zeros((n+1, n+1))  # initializing array\n",
    "                               # for price of the stock and \n",
    "                               # corresponding value of the option   \n",
    "    Cm = np.zeros((n+1, n+1))\n",
    "    \n",
    "   \n",
    "    \n",
    "#building the stock price tree as a 2-D array such that any element C[i,j] gives rise to 2 elements, C[i,j+1] and C[i+1,j+1]\n",
    "                              \n",
    "           \n",
    "    for i in range(n+1):\n",
    "        for j in range(n+1):\n",
    "            if i<=j:\n",
    "                Stock_tree[i,j] = S*math.pow(u,j-2*i)\n",
    "  \n",
    " #option pricing tree\n",
    "    for j in range(n+1, 0, -1):\n",
    "        for i in range(j):\n",
    "            if (PC == 1):     #put option                          \n",
    "                if(j == n+1):\n",
    "                    Cm[i,j-1] = max(K-Stock_tree[i,j-1], 0)     \n",
    "                else:\n",
    "                    Cm[i,j-1] = m.exp(-r*dt) * (p*Cm[i,j] + (1-p)*Cm[i+1,j]) \n",
    "            if (PC == 0):     #call option                  \n",
    "                if (j == n + 1):\n",
    "                    Cm[i,j-1] = max(Stock_tree[i,j-1]-K, 0)     \n",
    "                else:\n",
    "                    Cm[i,j-1] = m.exp(-r*dt) * (p*Cm[i,j] + (1-p)*Cm[i+1,j])  \n",
    "    return [Stock_tree,Cm] \n",
    "\n",
    "\n"
   ]
  },
  {
   "cell_type": "code",
   "execution_count": 16,
   "metadata": {},
   "outputs": [
    {
     "name": "stdout",
     "output_type": "stream",
     "text": [
      "Pricing:\n",
      " [[100 107 115 123 132 142 152 164 176 188 202]\n",
      " [  0  93 100 107 115 123 132 142 152 164 176]\n",
      " [  0   0  86  93 100 107 115 123 132 142 152]\n",
      " [  0   0   0  80  86  93 100 107 115 123 132]\n",
      " [  0   0   0   0  75  80  86  93 100 107 115]\n",
      " [  0   0   0   0   0  70  75  80  86  93 100]\n",
      " [  0   0   0   0   0   0  65  70  75  80  86]\n",
      " [  0   0   0   0   0   0   0  60  65  70  75]\n",
      " [  0   0   0   0   0   0   0   0  56  60  65]\n",
      " [  0   0   0   0   0   0   0   0   0  52  56]\n",
      " [  0   0   0   0   0   0   0   0   0   0  49]]\n",
      "Option Values:\n",
      " [[  9  14  19  26  34  43  53  64  76  89 102]\n",
      " [  0   5   8  12  18  25  33  43  53  64  76]\n",
      " [  0   0   2   4   7  11  17  24  33  42  52]\n",
      " [  0   0   0   1   1   3   5   9  15  23  32]\n",
      " [  0   0   0   0   0   0   0   1   3   7  15]\n",
      " [  0   0   0   0   0   0   0   0   0   0   0]\n",
      " [  0   0   0   0   0   0   0   0   0   0   0]\n",
      " [  0   0   0   0   0   0   0   0   0   0   0]\n",
      " [  0   0   0   0   0   0   0   0   0   0   0]\n",
      " [  0   0   0   0   0   0   0   0   0   0   0]\n",
      " [  0   0   0   0   0   0   0   0   0   0   0]]\n"
     ]
    }
   ],
   "source": [
    "S = 100\n",
    "k = 100\n",
    "r = .05\n",
    "v = .3\n",
    "\n",
    "T = 20/36\n",
    "n = 10\n",
    "PC =0\n",
    "Stock_tree,Cm = OptionsVal(n,S,k,r,v,T,PC)\n",
    "print('Pricing:\\n',np.matrix(Stock_tree.astype(int)))\n",
    "print('Option Values:\\n',np.matrix(Cm.astype(int)))"
   ]
  },
  {
   "cell_type": "code",
   "execution_count": null,
   "metadata": {},
   "outputs": [],
   "source": [
    "#in order to find the option price, we must select a certain volatility according to the market,\n",
    "#the price of the stock, and the risk-free interest rate(bonds,treasuries), then accordingly,\n",
    "#putting in the no of periods and time-duration to expiry, one can calculate the option price,\n",
    "#which is the first element of Cm"
   ]
  },
  {
   "cell_type": "code",
   "execution_count": null,
   "metadata": {},
   "outputs": [],
   "source": []
  },
  {
   "cell_type": "code",
   "execution_count": null,
   "metadata": {},
   "outputs": [],
   "source": []
  }
 ],
 "metadata": {
  "kernelspec": {
   "display_name": "Python 3",
   "language": "python",
   "name": "python3"
  },
  "language_info": {
   "codemirror_mode": {
    "name": "ipython",
    "version": 3
   },
   "file_extension": ".py",
   "mimetype": "text/x-python",
   "name": "python",
   "nbconvert_exporter": "python",
   "pygments_lexer": "ipython3",
   "version": "3.8.2"
  }
 },
 "nbformat": 4,
 "nbformat_minor": 2
}
